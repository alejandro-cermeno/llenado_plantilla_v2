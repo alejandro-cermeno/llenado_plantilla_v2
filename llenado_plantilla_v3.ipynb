{
  "nbformat": 4,
  "nbformat_minor": 0,
  "metadata": {
    "colab": {
      "name": "llenado_plantilla_v2.ipynb",
      "provenance": [],
      "collapsed_sections": []
    },
    "kernelspec": {
      "display_name": "Python 3",
      "name": "python3"
    }
  },
  "cells": [
    {
      "cell_type": "markdown",
      "metadata": {
        "id": "PFsLP5z5wWkC"
      },
      "source": [
        "# Llenado de plantilla Word con datos de Excel\r\n",
        "\r\n",
        "---\r\n",
        "\r\n",
        "\r\n",
        "\r\n",
        "llenado_plantilla_v2.ipynb automatiza el llenado de campos en una plantilla de  en Word con datos en Excel.\r\n",
        "\r\n",
        "\r\n",
        "* db_ejemplo.xls es la base de datos\r\n",
        "\r\n",
        "* carta_ejemplo.docx es la plantilla cuyos campos se quieren llenar\r\n",
        "\r\n",
        "---\r\n",
        "\r\n",
        "Contacto: alejandro.cermeno@protonmail.com\r\n",
        "\r\n",
        "11-01-2021"
      ]
    },
    {
      "cell_type": "code",
      "metadata": {
        "id": "0hZ-YMXtwUxK"
      },
      "source": [
        "%%capture \r\n",
        "\r\n",
        "!pip install docx-mailmerge # Módulo a utilizar\r\n",
        "\r\n",
        "# Se importan las librerías a utilizar\r\n",
        "\r\n",
        "import pandas as pd             # Para el análisis de datos\r\n",
        "import numpy as np              # Para operaciones numericas\r\n",
        "import datetime as dt           # Para manipulación de fechas\r\n",
        "from mailmerge import MailMerge # Para el llenado de la plantilla"
      ],
      "execution_count": null,
      "outputs": []
    },
    {
      "cell_type": "markdown",
      "metadata": {
        "id": "Z2x4eGseYr_M"
      },
      "source": [
        "## Se importa la base de datos (datos_ejemplo.xls)"
      ]
    },
    {
      "cell_type": "code",
      "metadata": {
        "colab": {
          "base_uri": "https://localhost:8080/",
          "height": 236
        },
        "id": "olDgsKZR5zaj",
        "outputId": "f791302f-ad1c-4bd9-b8e2-4622086133e2"
      },
      "source": [
        "# Se conecta Python con las carpetas de Google Drive\r\n",
        "\r\n",
        "from google.colab import drive\r\n",
        "drive.mount('/content/drive')\r\n",
        "\r\n",
        "# Se importa el Excel llamado 'datos_ejemplo.xls'\r\n",
        "\r\n",
        "datos = pd.read_excel('¡¡¡PONER_RUTA!!!', index_col = 0, nrows = 5)\r\n",
        "\r\n",
        "datos.fillna( 'No aplica', inplace = True ) # Se remplazan NaN's\r\n",
        "\r\n",
        "# Asignación de variables a las columnas de la tabla\r\n",
        "\r\n",
        "cliente         = datos[ 'Cliente' ]\r\n",
        "ubicacion       = datos[ 'Ubicación' ]\r\n",
        "precio_compra   = datos[ 'Precio Compra' ].astype(str)\r\n",
        "fecha_compra    = (pd.to_datetime(datos['Fecha Compra']).dt.strftime\r\n",
        "                    ('%d-%m-%Y').astype(str))\r\n",
        "\r\n",
        "# Se muestran las primeras 5 filas de del Excel importado\r\n",
        "\r\n",
        "datos.head()"
      ],
      "execution_count": null,
      "outputs": [
        {
          "output_type": "stream",
          "text": [
            "Drive already mounted at /content/drive; to attempt to forcibly remount, call drive.mount(\"/content/drive\", force_remount=True).\n"
          ],
          "name": "stdout"
        },
        {
          "output_type": "execute_result",
          "data": {
            "text/html": [
              "<div>\n",
              "<style scoped>\n",
              "    .dataframe tbody tr th:only-of-type {\n",
              "        vertical-align: middle;\n",
              "    }\n",
              "\n",
              "    .dataframe tbody tr th {\n",
              "        vertical-align: top;\n",
              "    }\n",
              "\n",
              "    .dataframe thead th {\n",
              "        text-align: right;\n",
              "    }\n",
              "</style>\n",
              "<table border=\"1\" class=\"dataframe\">\n",
              "  <thead>\n",
              "    <tr style=\"text-align: right;\">\n",
              "      <th></th>\n",
              "      <th>Cliente</th>\n",
              "      <th>Ubicación</th>\n",
              "      <th>Precio Compra</th>\n",
              "      <th>Fecha Compra</th>\n",
              "    </tr>\n",
              "    <tr>\n",
              "      <th>Referencia</th>\n",
              "      <th></th>\n",
              "      <th></th>\n",
              "      <th></th>\n",
              "      <th></th>\n",
              "    </tr>\n",
              "  </thead>\n",
              "  <tbody>\n",
              "    <tr>\n",
              "      <th>1</th>\n",
              "      <td>Carmen</td>\n",
              "      <td>Lleida</td>\n",
              "      <td>2133903</td>\n",
              "      <td>2004-06-19</td>\n",
              "    </tr>\n",
              "    <tr>\n",
              "      <th>2</th>\n",
              "      <td>Pedro</td>\n",
              "      <td>Girona</td>\n",
              "      <td>1945424</td>\n",
              "      <td>2004-04-19</td>\n",
              "    </tr>\n",
              "    <tr>\n",
              "      <th>3</th>\n",
              "      <td>Joaquín</td>\n",
              "      <td>Girona</td>\n",
              "      <td>712416</td>\n",
              "      <td>2004-11-08</td>\n",
              "    </tr>\n",
              "    <tr>\n",
              "      <th>4</th>\n",
              "      <td>Jesús</td>\n",
              "      <td>Girona</td>\n",
              "      <td>1815450</td>\n",
              "      <td>2004-04-27</td>\n",
              "    </tr>\n",
              "    <tr>\n",
              "      <th>5</th>\n",
              "      <td>María</td>\n",
              "      <td>Tarragona</td>\n",
              "      <td>1138024</td>\n",
              "      <td>2004-07-10</td>\n",
              "    </tr>\n",
              "  </tbody>\n",
              "</table>\n",
              "</div>"
            ],
            "text/plain": [
              "            Cliente  Ubicación  Precio Compra Fecha Compra\n",
              "Referencia                                                \n",
              "1            Carmen     Lleida        2133903   2004-06-19\n",
              "2             Pedro     Girona        1945424   2004-04-19\n",
              "3           Joaquín     Girona         712416   2004-11-08\n",
              "4             Jesús     Girona        1815450   2004-04-27\n",
              "5             María  Tarragona        1138024   2004-07-10"
            ]
          },
          "metadata": {
            "tags": []
          },
          "execution_count": 23
        }
      ]
    },
    {
      "cell_type": "markdown",
      "metadata": {
        "id": "0Tin0WHbYzdj"
      },
      "source": [
        "## Se importa la plantilla ('carta_ejemplo.docx')"
      ]
    },
    {
      "cell_type": "code",
      "metadata": {
        "colab": {
          "base_uri": "https://localhost:8080/"
        },
        "id": "eLz4Stu2UM0K",
        "outputId": "d06a2ce3-565d-47bf-953f-30555770d02d"
      },
      "source": [
        "# Se importa la plantilla llamada 'carta_ejempoo.docx'\r\n",
        "\r\n",
        "plantilla = ('¡¡¡PONER_RUTA!!!')\r\n",
        "\r\n",
        "# Se inspecciona la plantilla\r\n",
        "\r\n",
        "documento = MailMerge(plantilla)\r\n",
        "espacios  = documento.get_merge_fields() # Espacios a llenar en la plantilla\r\n",
        "print(espacios)\r\n",
        "\r\n",
        "# ¿Cuáles son los espacios a llenar en la plantilla?"
      ],
      "execution_count": null,
      "outputs": [
        {
          "output_type": "stream",
          "text": [
            "{'ubicacion', 'superficie', 'precio_compra', 'fecha_compra', 'cliente'}\n"
          ],
          "name": "stdout"
        }
      ]
    },
    {
      "cell_type": "markdown",
      "metadata": {
        "id": "2SkYfhd4y6sl"
      },
      "source": [
        "## Se llena la plantilla "
      ]
    },
    {
      "cell_type": "code",
      "metadata": {
        "id": "djCkDLtQYDRA"
      },
      "source": [
        "# Se llena la plantilla de forma automatizada mediante un bucle\r\n",
        "\r\n",
        "for i in range(1, len(cliente)+1):\r\n",
        "  documento = MailMerge(plantilla)\r\n",
        "  documento.merge( cliente = cliente[i] )\r\n",
        "  documento.merge( ubicacion = ubicacion[i] )\r\n",
        "  documento.merge( precio_compra = precio_compra[i] )\r\n",
        "  documento.merge( fecha_compra = fecha_compra[i] )\r\n",
        "  documento.write('¡¡¡PONER_RUTA!!!'+cliente[i]+'.doc')"
      ],
      "execution_count": null,
      "outputs": []
    }
  ]
}