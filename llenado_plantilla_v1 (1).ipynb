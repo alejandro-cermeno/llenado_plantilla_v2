{
  "nbformat": 4,
  "nbformat_minor": 0,
  "metadata": {
    "colab": {
      "name": "llenado_plantilla_v1.ipynb",
      "provenance": []
    },
    "kernelspec": {
      "name": "python3",
      "display_name": "Python 3"
    }
  },
  "cells": [
    {
      "cell_type": "markdown",
      "metadata": {
        "id": "PFsLP5z5wWkC"
      },
      "source": [
        "# Datos de Excel a plantilla de Word\r\n",
        "\r\n",
        "---\r\n",
        "Contacto: alejandro.cermeno@protonmail.com\r\n",
        "\r\n",
        "11-01-2021"
      ]
    },
    {
      "cell_type": "code",
      "metadata": {
        "id": "0hZ-YMXtwUxK"
      },
      "source": [
        "%%capture \r\n",
        "\r\n",
        "# Se instala el módulo a utilizar\r\n",
        "\r\n",
        "!pip install docx-mailmerge\r\n",
        "\r\n",
        "# Se importan las librerías a utilizar\r\n",
        "\r\n",
        "import pandas as pd\r\n",
        "import numpy as np\r\n",
        "import datetime as dt\r\n",
        "from __future__ import print_function\r\n",
        "from mailmerge import MailMerge\r\n",
        "from datetime import date\r\n",
        "\r\n",
        "# Se conecta Python con las carpetas de Google Drive\r\n",
        "\r\n",
        "from google.colab import drive\r\n",
        "drive.mount('/content/drive')"
      ],
      "execution_count": null,
      "outputs": []
    },
    {
      "cell_type": "markdown",
      "metadata": {
        "id": "Z2x4eGseYr_M"
      },
      "source": [
        "## Se importa la base de datos (datos_ejemplo.xls)"
      ]
    },
    {
      "cell_type": "code",
      "metadata": {
        "colab": {
          "base_uri": "https://localhost:8080/",
          "height": 220
        },
        "id": "olDgsKZR5zaj",
        "outputId": "d59cf2b2-9f3f-4caf-eef4-75690db832b2"
      },
      "source": [
        "# Se importa el Excel llamado 'datos_ejemplo.xls'\r\n",
        "\r\n",
        "datos = pd.read_excel('/content/drive/MyDrive/BBVA/datos_ejemplo.xls', \r\n",
        "                   index_col = 0, nrows = 6)\r\n",
        "\r\n",
        "# Se remplazan las celdas vacías con 'No aplica'\r\n",
        "\r\n",
        "datos[ 'Cliente' ].fillna( 'No aplica', inplace = True )   # Para 'Cliente'\r\n",
        "datos[ 'Ubicación' ].fillna( 'No aplica', inplace = True )  # Para 'Ubicación'\r\n",
        "datos[ 'Precio Venta' ].fillna( 'No aplica', inplace = True ) # Para 'Precio Venta'\r\n",
        "datos[ 'Fecha Venta' ].fillna('No aplica', inplace = True ) # Para 'Fecha Venta'\r\n",
        "\r\n",
        "# Se muestran las primeras 5 filas de del Excel importado\r\n",
        "\r\n",
        "datos.head()"
      ],
      "execution_count": null,
      "outputs": [
        {
          "output_type": "execute_result",
          "data": {
            "text/html": [
              "<div>\n",
              "<style scoped>\n",
              "    .dataframe tbody tr th:only-of-type {\n",
              "        vertical-align: middle;\n",
              "    }\n",
              "\n",
              "    .dataframe tbody tr th {\n",
              "        vertical-align: top;\n",
              "    }\n",
              "\n",
              "    .dataframe thead th {\n",
              "        text-align: right;\n",
              "    }\n",
              "</style>\n",
              "<table border=\"1\" class=\"dataframe\">\n",
              "  <thead>\n",
              "    <tr style=\"text-align: right;\">\n",
              "      <th></th>\n",
              "      <th>Cliente</th>\n",
              "      <th>Ubicación</th>\n",
              "      <th>Precio Venta</th>\n",
              "      <th>Fecha Venta</th>\n",
              "    </tr>\n",
              "    <tr>\n",
              "      <th>Referencia</th>\n",
              "      <th></th>\n",
              "      <th></th>\n",
              "      <th></th>\n",
              "      <th></th>\n",
              "    </tr>\n",
              "  </thead>\n",
              "  <tbody>\n",
              "    <tr>\n",
              "      <th>1</th>\n",
              "      <td>Carmen</td>\n",
              "      <td>Lleida</td>\n",
              "      <td>2133903</td>\n",
              "      <td>2004-06-19</td>\n",
              "    </tr>\n",
              "    <tr>\n",
              "      <th>2</th>\n",
              "      <td>Pedro</td>\n",
              "      <td>Girona</td>\n",
              "      <td>1945424</td>\n",
              "      <td>2004-04-19</td>\n",
              "    </tr>\n",
              "    <tr>\n",
              "      <th>3</th>\n",
              "      <td>Joaquín</td>\n",
              "      <td>Girona</td>\n",
              "      <td>712416</td>\n",
              "      <td>2004-11-08</td>\n",
              "    </tr>\n",
              "    <tr>\n",
              "      <th>4</th>\n",
              "      <td>Jesús</td>\n",
              "      <td>Girona</td>\n",
              "      <td>1815450</td>\n",
              "      <td>2004-04-27</td>\n",
              "    </tr>\n",
              "    <tr>\n",
              "      <th>5</th>\n",
              "      <td>María</td>\n",
              "      <td>Tarragona</td>\n",
              "      <td>1138024</td>\n",
              "      <td>2004-07-10</td>\n",
              "    </tr>\n",
              "  </tbody>\n",
              "</table>\n",
              "</div>"
            ],
            "text/plain": [
              "            Cliente  Ubicación  Precio Venta Fecha Venta\n",
              "Referencia                                              \n",
              "1            Carmen     Lleida       2133903  2004-06-19\n",
              "2             Pedro     Girona       1945424  2004-04-19\n",
              "3           Joaquín     Girona        712416  2004-11-08\n",
              "4             Jesús     Girona       1815450  2004-04-27\n",
              "5             María  Tarragona       1138024  2004-07-10"
            ]
          },
          "metadata": {
            "tags": []
          },
          "execution_count": 14
        }
      ]
    },
    {
      "cell_type": "markdown",
      "metadata": {
        "id": "0Tin0WHbYzdj"
      },
      "source": [
        "## Se importa la plantilla ('carta_ejemplo.docx')"
      ]
    },
    {
      "cell_type": "code",
      "metadata": {
        "colab": {
          "base_uri": "https://localhost:8080/"
        },
        "id": "eLz4Stu2UM0K",
        "outputId": "146ceb9e-07ad-4026-a29c-b8f960d4b0c0"
      },
      "source": [
        "# Se configuran las variables a llenar\r\n",
        "\r\n",
        "cliente         = datos[ 'Cliente' ]\r\n",
        "ubicacion       = datos[ 'Ubicación' ]\r\n",
        "precio_venta    = datos[ 'Precio Venta' ].astype(str)\r\n",
        "fecha_venta     = pd.to_datetime(datos['Fecha Venta']).dt.strftime('%d-%m-%Y').astype(str)\r\n",
        "\r\n",
        "# Se importa la plantilla llamada 'carta_ejempoo.docx'\r\n",
        "\r\n",
        "plantilla = '/content/drive/MyDrive/BBVA/plantilla_ejemplo.docx'\r\n",
        "\r\n",
        "# Se inspecciona la plantilla\r\n",
        "\r\n",
        "documento = MailMerge(plantilla)\r\n",
        "espacios = documento.get_merge_fields() # Espacios a llenar en la plantilla\r\n",
        "print(espacios)\r\n",
        "\r\n",
        "# ¿Cuáles son los espacios a llenar en la plantilla?"
      ],
      "execution_count": null,
      "outputs": [
        {
          "output_type": "stream",
          "text": [
            "{'fecha_venta', 'cliente', 'precio_venta', 'ubicacion', 'superficie'}\n"
          ],
          "name": "stdout"
        }
      ]
    },
    {
      "cell_type": "code",
      "metadata": {
        "id": "nkERwqV-dXJW",
        "colab": {
          "base_uri": "https://localhost:8080/"
        },
        "outputId": "e6714f88-7f55-4198-e206-5dcfff921c10"
      },
      "source": [
        "fecha_venta\r\n"
      ],
      "execution_count": null,
      "outputs": [
        {
          "output_type": "execute_result",
          "data": {
            "text/plain": [
              "Referencia\n",
              "1    19-06-2004\n",
              "2    19-04-2004\n",
              "3    08-11-2004\n",
              "4    27-04-2004\n",
              "5    10-07-2004\n",
              "6    05-09-2004\n",
              "Name: Fecha Venta, dtype: object"
            ]
          },
          "metadata": {
            "tags": []
          },
          "execution_count": 18
        }
      ]
    },
    {
      "cell_type": "markdown",
      "metadata": {
        "id": "2SkYfhd4y6sl"
      },
      "source": [
        "## Se llena la plantilla "
      ]
    },
    {
      "cell_type": "code",
      "metadata": {
        "id": "djCkDLtQYDRA"
      },
      "source": [
        "# Se llena la plantilla de forma automatizada mediante un bucle\r\n",
        "\r\n",
        "for i in range(1, len(cliente)+1):\r\n",
        "  documento = MailMerge(plantilla)\r\n",
        "  documento.merge( cliente = cliente[i] )\r\n",
        "  documento.merge( ubicacion = ubicacion[i] )\r\n",
        "  documento.merge( precio_venta = precio_venta[i] )\r\n",
        "  documento.merge( fecha_venta = fecha_venta[i] )\r\n",
        "  documento.write('/content/drive/MyDrive/BBVA/cartas/carta_'+cliente[i]+'.docx')"
      ],
      "execution_count": null,
      "outputs": []
    }
  ]
}